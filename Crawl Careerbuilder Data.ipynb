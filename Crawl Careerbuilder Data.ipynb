{
 "cells": [
  {
   "cell_type": "markdown",
   "id": "66a29761",
   "metadata": {},
   "source": [
    "# Thu thập dữ liệu việc làm liên quan đến CNTT tại TP Hồ Chí Minh"
   ]
  },
  {
   "cell_type": "code",
   "execution_count": 1,
   "id": "56837736",
   "metadata": {},
   "outputs": [],
   "source": [
    "from selenium import webdriver\n",
    "from time import sleep\n",
    "from selenium.webdriver.common.keys import Keys\n",
    "import random\n",
    "import pandas as pd\n",
    "from selenium.webdriver.common.by import By\n",
    "import warnings\n",
    "warnings.filterwarnings('ignore')"
   ]
  },
  {
   "cell_type": "code",
   "execution_count": 2,
   "id": "6a069019",
   "metadata": {},
   "outputs": [],
   "source": [
    "browser = webdriver.Chrome(executable_path=\"./chromedriver\")"
   ]
  },
  {
   "cell_type": "code",
   "execution_count": 3,
   "id": "f11f957e",
   "metadata": {},
   "outputs": [],
   "source": [
    "url='https://careerbuilder.vn/'\n",
    "browser.get(url)"
   ]
  },
  {
   "cell_type": "markdown",
   "id": "1d23f22f",
   "metadata": {},
   "source": [
    "<h4>Nhấn vào nút Tìm việc ngay trên trang web</h4>"
   ]
  },
  {
   "cell_type": "code",
   "execution_count": 4,
   "id": "5c2834bc",
   "metadata": {},
   "outputs": [],
   "source": [
    "browser.find_element(By.CLASS_NAME,\"find-jobs\").click()"
   ]
  },
  {
   "cell_type": "markdown",
   "id": "89a883f7",
   "metadata": {},
   "source": [
    "<h4>Chọn vào ô CNTT-Phần mềm trên thanh lọc</h4>"
   ]
  },
  {
   "cell_type": "code",
   "execution_count": 5,
   "id": "cc72dd0a",
   "metadata": {},
   "outputs": [],
   "source": [
    "browser.find_element(By.CLASS_NAME,\"chosen-choices\").click()"
   ]
  },
  {
   "cell_type": "code",
   "execution_count": 6,
   "id": "eac8efd3",
   "metadata": {},
   "outputs": [],
   "source": [
    "browser.find_element(By.XPATH,\"/html/body/main/section[1]/div[1]/div/div[1]/form/div/div[2]/div/div/ul/li[13]\").click()"
   ]
  },
  {
   "cell_type": "markdown",
   "id": "269de682",
   "metadata": {},
   "source": [
    "<h4>Chọn vào ô Hồ Chí Minh trên thanh lọc và nhấn vào nút tìm kiếm</h4>"
   ]
  },
  {
   "cell_type": "code",
   "execution_count": 7,
   "id": "c9c70792",
   "metadata": {},
   "outputs": [],
   "source": [
    "browser.find_element(By.XPATH,\"/html/body/main/section[1]/div[1]/div/div[1]/form/div/div[3]/div\").click()"
   ]
  },
  {
   "cell_type": "code",
   "execution_count": 8,
   "id": "534a3bcf",
   "metadata": {},
   "outputs": [],
   "source": [
    "browser.find_element(By.XPATH,\"/html/body/main/section[1]/div[1]/div/div[1]/form/div/div[3]/div/div/ul/li[3]\").click()"
   ]
  },
  {
   "cell_type": "code",
   "execution_count": 9,
   "id": "bc5f7e7a",
   "metadata": {},
   "outputs": [],
   "source": [
    "browser.find_element(By.CLASS_NAME,'btn-gradient').click()"
   ]
  },
  {
   "cell_type": "markdown",
   "id": "21bfbe79",
   "metadata": {},
   "source": [
    "<h4>Lấy link của các việc làm về CNTT-Phần mềm tại TP Hồ Chí Minh</h4>"
   ]
  },
  {
   "cell_type": "code",
   "execution_count": 10,
   "id": "4e78f987",
   "metadata": {},
   "outputs": [
    {
     "name": "stdout",
     "output_type": "stream",
     "text": [
      "Đã lấy link tuyển dụng xong!\n"
     ]
    }
   ],
   "source": [
    "links=[]\n",
    "chuc_vu=[]\n",
    "company_name=[]\n",
    "number_page=12\n",
    "while True:\n",
    "    a=browser.find_element(By.ID,'jobs-side-list-content')\n",
    "    for x in a.find_elements(By.CLASS_NAME,'job_link'):\n",
    "        link=x.get_attribute('href')\n",
    "        cv=x.get_attribute('title')\n",
    "        if link not in links:\n",
    "            links.append(link)\n",
    "    try:\n",
    "        browser.find_element(By.CLASS_NAME,'next-page').click()\n",
    "    except:\n",
    "        print(\"Đã lấy link tuyển dụng xong!\")\n",
    "        break"
   ]
  },
  {
   "cell_type": "markdown",
   "id": "94750c54",
   "metadata": {},
   "source": [
    "<h4>Lấy thông tin cần thiết về việc tuyển dụng</h4>"
   ]
  },
  {
   "cell_type": "code",
   "execution_count": 11,
   "id": "99b67abc",
   "metadata": {},
   "outputs": [],
   "source": [
    "Ten_CV=[]\n",
    "Ten_CT=[]\n",
    "Luong=[]\n",
    "MT_CV=[]\n",
    "KN=[]\n",
    "dia_chi=[]\n",
    "for i in range(len(links)):\n",
    "    browser.get(links[i])\n",
    "    #Lấy tên CV\n",
    "    try:\n",
    "        Ten_CV.append(browser.find_element(By.CLASS_NAME,'job-desc').find_element(By.CLASS_NAME,'title').text)\n",
    "    except:\n",
    "        try:\n",
    "            Ten_CV.append(browser.find_element(By.CLASS_NAME,'top-template').find_element(By.TAG_NAME,'h2').text)\n",
    "        except:\n",
    "            try:\n",
    "                Ten_CV.append(browser.find_element(By.CLASS_NAME,'bottom-template').find_element(By.TAG_NAME,'h2').text)\n",
    "            except:\n",
    "                try:\n",
    "                    Ten_CV.append(browser.find_element(By.CLASS_NAME,'job-detail-content').find_element(By.TAG_NAME,'h2').text)\n",
    "                except:\n",
    "                    Ten_CV.append('error')\n",
    "    #Lấy tên CT\n",
    "    try:\n",
    "        Ten_CT.append(browser.find_element(By.CLASS_NAME,'job-desc').find_element(By.CLASS_NAME,'title').text)\n",
    "    except:\n",
    "        try:\n",
    "            Ten_CT.append(browser.find_element(By.CLASS_NAME,'bottom-template').find_element(By.CLASS_NAME,'title').text)\n",
    "        except:\n",
    "            try:\n",
    "                Ten_CT.append(browser.find_element(By.CLASS_NAME,'top-job').find_element(By.CLASS_NAME,'tit_company').text)\n",
    "            except:\n",
    "                Ten_CT.append('error')\n",
    "    #Lay luong\n",
    "    try:\n",
    "        Luong.append(browser.find_element(By.XPATH,'/html/body/main/section[2]/div/div/div[2]/div/div[1]/section/div[1]/div/div[3]/div/ul/li[1]/p').text)\n",
    "    except:\n",
    "        try:\n",
    "            Luong.append(browser.find_element(By.CLASS_NAME,'table').find_elements(By.CLASS_NAME,'content')[1].text)\n",
    "        except:\n",
    "            try:\n",
    "                Luong.append(browser.find_element(By.XPATH,'/html/body/main/section[2]/div/div/div[3]/div/div[2]/ul/li[2]/div').text)\n",
    "            except:\n",
    "                Luong.append('error')\n",
    "    #Lấy mô tả công việc\n",
    "    try:\n",
    "        x=browser.find_element(By.CLASS_NAME,'job-detail-content').find_elements(By.CLASS_NAME,'detail-row')[1].find_elements(By.TAG_NAME,'p')\n",
    "        MTCV=[]\n",
    "        for k in x:\n",
    "            MTCV.append(k.text)\n",
    "        MT_CV.append(MTCV)\n",
    "    except:\n",
    "        try:\n",
    "            x=browser.find_element(By.CLASS_NAME,'full-content').find_element(By.CLASS_NAME,'detail-row').find_elements(By.TAG_NAME,'p')\n",
    "            MTCV=[]\n",
    "            for k in x:\n",
    "                MTCV.append(k.text)\n",
    "            MT_CV.append(MTCV)\n",
    "        except:\n",
    "            try:\n",
    "                x=browser.find_element(By.CLASS_NAME,'job-detail-content').find_elements(By.CLASS_NAME,'detail-row')[1].find_elements(By.TAG_NAME,'li')\n",
    "                MTCV=[]\n",
    "                for k in x:\n",
    "                    MTCV.append(k.text)\n",
    "                MT_CV.append(MTCV)\n",
    "            except:\n",
    "                MT_CV.append('error')\n",
    "    \n",
    "    #Lấy kinh nghiệm\n",
    "    try:\n",
    "        KN.append(browser.find_element(By.XPATH,'/html/body/main/section[2]/div/div/div[2]/div/div[1]/section/div[1]/div/div[3]/div/ul/li[2]/p').text)\n",
    "    except:\n",
    "        try:\n",
    "            KN.append(browser.find_element(By.CLASS_NAME,'body-template').find_elements(By.CLASS_NAME,'table')[1].find_elements(By.CLASS_NAME,'content')[1].text)\n",
    "        except:\n",
    "            try:\n",
    "                KN.append(browser.find_element(By.CLASS_NAME,'box-info').find_element(By.CLASS_NAME,'table').find_elements(By.CLASS_NAME,'content')[4].text)\n",
    "            except:\n",
    "                try:\n",
    "                    KN.append(browser.find_element(By.XPATH,'/html/body/main/section[2]/div/div/div[3]/div/div[2]/ul/li[6]/div').text)\n",
    "                except:    \n",
    "                    KN.append(\"Không yêu cầu kinh nghiệm\")\n",
    "    \n",
    "    #Lấy địa chỉ\n",
    "    try:\n",
    "        dia_chi.append(browser.find_element(By.CLASS_NAME,'box-local').find_element(By.CLASS_NAME,'content').find_element(By.TAG_NAME,'a').get_attribute('text'))\n",
    "    except:\n",
    "        dia_chi.append('Địa chỉ chi tiết đã được bảo mật')\n",
    "        \n",
    "    "
   ]
  },
  {
   "cell_type": "markdown",
   "id": "00d970f5",
   "metadata": {},
   "source": [
    "<h4>Lưu thông tin thu thập được vào DataFrame và xuất thông tin ra file csv</h4>"
   ]
  },
  {
   "cell_type": "code",
   "execution_count": 13,
   "id": "a433543a",
   "metadata": {},
   "outputs": [
    {
     "data": {
      "text/html": [
       "<div>\n",
       "<style scoped>\n",
       "    .dataframe tbody tr th:only-of-type {\n",
       "        vertical-align: middle;\n",
       "    }\n",
       "\n",
       "    .dataframe tbody tr th {\n",
       "        vertical-align: top;\n",
       "    }\n",
       "\n",
       "    .dataframe thead th {\n",
       "        text-align: right;\n",
       "    }\n",
       "</style>\n",
       "<table border=\"1\" class=\"dataframe\">\n",
       "  <thead>\n",
       "    <tr style=\"text-align: right;\">\n",
       "      <th></th>\n",
       "      <th>Tên Công Việc</th>\n",
       "      <th>Tên Công Ty</th>\n",
       "      <th>Lương</th>\n",
       "      <th>Mô tả Công Việc</th>\n",
       "      <th>Kinh Nghiệm</th>\n",
       "      <th>Địa Chỉ Công Ty</th>\n",
       "      <th>Link Tuyển Dụng</th>\n",
       "    </tr>\n",
       "  </thead>\n",
       "  <tbody>\n",
       "    <tr>\n",
       "      <th>0</th>\n",
       "      <td>Solution Architect (HCM – HN)</td>\n",
       "      <td>Solution Architect (HCM – HN)</td>\n",
       "      <td>Cạnh tranh</td>\n",
       "      <td>[A. Solution Architecture, - Direct the tribe ...</td>\n",
       "      <td>7 - 8 Năm</td>\n",
       "      <td>Số 6 Quang Trung</td>\n",
       "      <td>https://careerbuilder.vn/vi/tim-viec-lam/solut...</td>\n",
       "    </tr>\n",
       "    <tr>\n",
       "      <th>1</th>\n",
       "      <td>SALE MANAGER (Phần mềm - Saas)</td>\n",
       "      <td>SALE MANAGER (Phần mềm - Saas)</td>\n",
       "      <td>30 Tr - 45 Tr VND</td>\n",
       "      <td>[]</td>\n",
       "      <td>Trên 5 Năm</td>\n",
       "      <td>256 Nguyễn Thị Minh Khai, Võ Thị Sáu, Quận 3, ...</td>\n",
       "      <td>https://careerbuilder.vn/vi/tim-viec-lam/sale-...</td>\n",
       "    </tr>\n",
       "    <tr>\n",
       "      <th>2</th>\n",
       "      <td>FRONTEND DEVELOPER (REACTJS)</td>\n",
       "      <td>FRONTEND DEVELOPER (REACTJS)</td>\n",
       "      <td>Cạnh tranh</td>\n",
       "      <td>[● Develop new user-facing features using Java...</td>\n",
       "      <td>2 - 6 Năm</td>\n",
       "      <td>127 Hồng Hà, Phường 9 (Phú Nhuận), Phú Nhuận, ...</td>\n",
       "      <td>https://careerbuilder.vn/vi/tim-viec-lam/front...</td>\n",
       "    </tr>\n",
       "    <tr>\n",
       "      <th>3</th>\n",
       "      <td>FULLSTACK DEVELOPER (JAVA/PHP/REACTJS/GOLANG/N...</td>\n",
       "      <td>GIỚI THIỆU VỀ CÔNG TY</td>\n",
       "      <td>Cạnh tranh</td>\n",
       "      <td>[● As a Full Stack Developer, you should be co...</td>\n",
       "      <td>2 - 6 Năm</td>\n",
       "      <td>127 Hồng Hà, Phường 9 (Phú Nhuận), Phú Nhuận, ...</td>\n",
       "      <td>https://careerbuilder.vn/vi/tim-viec-lam/fulls...</td>\n",
       "    </tr>\n",
       "    <tr>\n",
       "      <th>4</th>\n",
       "      <td>Backend Developer (C#, ASP.NET, .NET Core)</td>\n",
       "      <td>Backend Developer (C#, ASP.NET, .NET Core)</td>\n",
       "      <td>Cạnh tranh</td>\n",
       "      <td>[- Tham gia phân tích, thiết kế và xây dựng cá...</td>\n",
       "      <td>1 - 2 Năm</td>\n",
       "      <td>Số 43 đường 37, Khu đô thị Vạn Phúc, Phường Hi...</td>\n",
       "      <td>https://careerbuilder.vn/vi/tim-viec-lam/backe...</td>\n",
       "    </tr>\n",
       "    <tr>\n",
       "      <th>5</th>\n",
       "      <td>Back-End Developer (Java, NodeJS)</td>\n",
       "      <td>Back-End Developer (Java, NodeJS)</td>\n",
       "      <td>Cạnh tranh</td>\n",
       "      <td>[]</td>\n",
       "      <td>Trên 3 Năm</td>\n",
       "      <td>Tòa nhà Sài Gòn Royal, Tầng 1, 91 Pasteur, P. ...</td>\n",
       "      <td>https://careerbuilder.vn/vi/tim-viec-lam/back-...</td>\n",
       "    </tr>\n",
       "    <tr>\n",
       "      <th>6</th>\n",
       "      <td>JUNIOR/ SENIOR JAVA DEVELOPER</td>\n",
       "      <td>JUNIOR/ SENIOR JAVA DEVELOPER</td>\n",
       "      <td>Cạnh tranh</td>\n",
       "      <td>[Design and build advanced applications., Coll...</td>\n",
       "      <td>1 - 2 Năm</td>\n",
       "      <td>Căn 00.12 và 00.13 Lakeview 1, số 19 đường Tố ...</td>\n",
       "      <td>https://careerbuilder.vn/vi/tim-viec-lam/junio...</td>\n",
       "    </tr>\n",
       "    <tr>\n",
       "      <th>7</th>\n",
       "      <td>AUTOMATION MANAGER - AI DIRECTOR</td>\n",
       "      <td>THÔNG TIN TUYỂN DỤNG</td>\n",
       "      <td>Cạnh tranh</td>\n",
       "      <td>[Manage all activities of control and automati...</td>\n",
       "      <td>7 - 15 Năm</td>\n",
       "      <td>Lô 6 KCN Tân Đông Hiệp A, Dĩ An, Bình Dương</td>\n",
       "      <td>https://careerbuilder.vn/vi/tim-viec-lam/autom...</td>\n",
       "    </tr>\n",
       "    <tr>\n",
       "      <th>8</th>\n",
       "      <td>IT Development Operations Assistant Manager</td>\n",
       "      <td>IT Development Operations Assistant Manager</td>\n",
       "      <td>Cạnh tranh</td>\n",
       "      <td>[Job Purpose:, Job accountabilities:]</td>\n",
       "      <td>2 - 8 Năm</td>\n",
       "      <td>101-103-105 Đường 9A, Bình Hưng, Bình Chánh, T...</td>\n",
       "      <td>https://careerbuilder.vn/vi/tim-viec-lam/it-de...</td>\n",
       "    </tr>\n",
       "    <tr>\n",
       "      <th>9</th>\n",
       "      <td>(Urgen) IT Specialist</td>\n",
       "      <td>(Urgen) IT Specialist</td>\n",
       "      <td>Cạnh tranh</td>\n",
       "      <td>[· Setup and maintain promotions based on requ...</td>\n",
       "      <td>1 - 3 Năm</td>\n",
       "      <td>Tòa nhà Phượng Long 2, Nguyễn Trường Tộ, Phườn...</td>\n",
       "      <td>https://careerbuilder.vn/vi/tim-viec-lam/urgen...</td>\n",
       "    </tr>\n",
       "  </tbody>\n",
       "</table>\n",
       "</div>"
      ],
      "text/plain": [
       "                                       Tên Công Việc  \\\n",
       "0                      Solution Architect (HCM – HN)   \n",
       "1                     SALE MANAGER (Phần mềm - Saas)   \n",
       "2                       FRONTEND DEVELOPER (REACTJS)   \n",
       "3  FULLSTACK DEVELOPER (JAVA/PHP/REACTJS/GOLANG/N...   \n",
       "4         Backend Developer (C#, ASP.NET, .NET Core)   \n",
       "5                  Back-End Developer (Java, NodeJS)   \n",
       "6                      JUNIOR/ SENIOR JAVA DEVELOPER   \n",
       "7                   AUTOMATION MANAGER - AI DIRECTOR   \n",
       "8        IT Development Operations Assistant Manager   \n",
       "9                              (Urgen) IT Specialist   \n",
       "\n",
       "                                   Tên Công Ty              Lương  \\\n",
       "0                Solution Architect (HCM – HN)         Cạnh tranh   \n",
       "1               SALE MANAGER (Phần mềm - Saas)  30 Tr - 45 Tr VND   \n",
       "2                 FRONTEND DEVELOPER (REACTJS)         Cạnh tranh   \n",
       "3                        GIỚI THIỆU VỀ CÔNG TY         Cạnh tranh   \n",
       "4   Backend Developer (C#, ASP.NET, .NET Core)         Cạnh tranh   \n",
       "5            Back-End Developer (Java, NodeJS)         Cạnh tranh   \n",
       "6                JUNIOR/ SENIOR JAVA DEVELOPER         Cạnh tranh   \n",
       "7                         THÔNG TIN TUYỂN DỤNG         Cạnh tranh   \n",
       "8  IT Development Operations Assistant Manager         Cạnh tranh   \n",
       "9                        (Urgen) IT Specialist         Cạnh tranh   \n",
       "\n",
       "                                     Mô tả Công Việc Kinh Nghiệm  \\\n",
       "0  [A. Solution Architecture, - Direct the tribe ...   7 - 8 Năm   \n",
       "1                                                 []  Trên 5 Năm   \n",
       "2  [● Develop new user-facing features using Java...   2 - 6 Năm   \n",
       "3  [● As a Full Stack Developer, you should be co...   2 - 6 Năm   \n",
       "4  [- Tham gia phân tích, thiết kế và xây dựng cá...   1 - 2 Năm   \n",
       "5                                                 []  Trên 3 Năm   \n",
       "6  [Design and build advanced applications., Coll...   1 - 2 Năm   \n",
       "7  [Manage all activities of control and automati...  7 - 15 Năm   \n",
       "8              [Job Purpose:, Job accountabilities:]   2 - 8 Năm   \n",
       "9  [· Setup and maintain promotions based on requ...   1 - 3 Năm   \n",
       "\n",
       "                                     Địa Chỉ Công Ty  \\\n",
       "0                                   Số 6 Quang Trung   \n",
       "1  256 Nguyễn Thị Minh Khai, Võ Thị Sáu, Quận 3, ...   \n",
       "2  127 Hồng Hà, Phường 9 (Phú Nhuận), Phú Nhuận, ...   \n",
       "3  127 Hồng Hà, Phường 9 (Phú Nhuận), Phú Nhuận, ...   \n",
       "4  Số 43 đường 37, Khu đô thị Vạn Phúc, Phường Hi...   \n",
       "5  Tòa nhà Sài Gòn Royal, Tầng 1, 91 Pasteur, P. ...   \n",
       "6  Căn 00.12 và 00.13 Lakeview 1, số 19 đường Tố ...   \n",
       "7        Lô 6 KCN Tân Đông Hiệp A, Dĩ An, Bình Dương   \n",
       "8  101-103-105 Đường 9A, Bình Hưng, Bình Chánh, T...   \n",
       "9  Tòa nhà Phượng Long 2, Nguyễn Trường Tộ, Phườn...   \n",
       "\n",
       "                                     Link Tuyển Dụng  \n",
       "0  https://careerbuilder.vn/vi/tim-viec-lam/solut...  \n",
       "1  https://careerbuilder.vn/vi/tim-viec-lam/sale-...  \n",
       "2  https://careerbuilder.vn/vi/tim-viec-lam/front...  \n",
       "3  https://careerbuilder.vn/vi/tim-viec-lam/fulls...  \n",
       "4  https://careerbuilder.vn/vi/tim-viec-lam/backe...  \n",
       "5  https://careerbuilder.vn/vi/tim-viec-lam/back-...  \n",
       "6  https://careerbuilder.vn/vi/tim-viec-lam/junio...  \n",
       "7  https://careerbuilder.vn/vi/tim-viec-lam/autom...  \n",
       "8  https://careerbuilder.vn/vi/tim-viec-lam/it-de...  \n",
       "9  https://careerbuilder.vn/vi/tim-viec-lam/urgen...  "
      ]
     },
     "execution_count": 13,
     "metadata": {},
     "output_type": "execute_result"
    }
   ],
   "source": [
    "data=pd.DataFrame({'Tên Công Việc':Ten_CV,'Tên Công Ty':Ten_CT,'Lương':Luong,'Mô tả Công Việc':MT_CV,'Kinh Nghiệm':KN,'Địa Chỉ Công Ty':dia_chi,'Link Tuyển Dụng':links})\n",
    "data.to_csv(\"C:/Users/ACER/Downloads/Web_Scraping_project.csv\")\n",
    "data.head(10)"
   ]
  },
  {
   "cell_type": "code",
   "execution_count": null,
   "id": "e709ad87",
   "metadata": {},
   "outputs": [],
   "source": []
  },
  {
   "cell_type": "code",
   "execution_count": null,
   "id": "5bcb0c09",
   "metadata": {},
   "outputs": [],
   "source": []
  }
 ],
 "metadata": {
  "kernelspec": {
   "display_name": "Python 3 (ipykernel)",
   "language": "python",
   "name": "python3"
  },
  "language_info": {
   "codemirror_mode": {
    "name": "ipython",
    "version": 3
   },
   "file_extension": ".py",
   "mimetype": "text/x-python",
   "name": "python",
   "nbconvert_exporter": "python",
   "pygments_lexer": "ipython3",
   "version": "3.9.12"
  }
 },
 "nbformat": 4,
 "nbformat_minor": 5
}
